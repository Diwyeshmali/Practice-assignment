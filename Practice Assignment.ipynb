{
 "cells": [
  {
   "cell_type": "code",
   "execution_count": 8,
   "id": "3fd5d4cc",
   "metadata": {},
   "outputs": [
    {
     "name": "stdout",
     "output_type": "stream",
     "text": [
      "Largest number is: 525\n"
     ]
    }
   ],
   "source": [
    "# Find the largest number from the given list, use for loop.\n",
    "\n",
    "numbers = [12, 75, 150, 180, 145, 525, 50] \n",
    "\n",
    "print(f\"Largest number is: {max(numbers)}\")"
   ]
  },
  {
   "cell_type": "code",
   "execution_count": 39,
   "id": "98282bf7",
   "metadata": {
    "scrolled": true
   },
   "outputs": [
    {
     "name": "stdout",
     "output_type": "stream",
     "text": [
      "2\n",
      "4\n",
      "6\n",
      "8\n",
      "10\n",
      "12\n"
     ]
    }
   ],
   "source": [
    "#Print all the even number between (1, 12).\n",
    "\n",
    "for n in range(1, 13):\n",
    "    \n",
    "  if n%2!=0: \n",
    "    \n",
    "    continue \n",
    "    \n",
    "  print(n)"
   ]
  },
  {
   "cell_type": "code",
   "execution_count": 20,
   "id": "6767720e",
   "metadata": {},
   "outputs": [
    {
     "name": "stdout",
     "output_type": "stream",
     "text": [
      "Enter number:10\n",
      "The sum of number is: 55\n"
     ]
    }
   ],
   "source": [
    "#Calculate the sum of all numbers from 1 to a given number.\n",
    "\n",
    "n = int(input(\"Enter number:\"))\n",
    "\n",
    "sum=0\n",
    "\n",
    "for i in range(1, n+1):\n",
    "\n",
    " sum = sum + i\n",
    "\n",
    "print(f\"The sum of number is: {sum}\")\n",
    "\n",
    "\n"
   ]
  },
  {
   "cell_type": "code",
   "execution_count": 65,
   "id": "0d9f5369",
   "metadata": {},
   "outputs": [
    {
     "name": "stdout",
     "output_type": "stream",
     "text": [
      "75\n",
      "150\n",
      "145\n",
      "50\n"
     ]
    }
   ],
   "source": [
    "#Write a program to display only those numbers from a list that satisfy the following conditions\n",
    "#The number must be divisible by five\n",
    "#If the number is greater than 150, then skip it and move to the next number\n",
    "#If the number is greater than 500, then stop the loop\n",
    "\n",
    "numbers = [12, 75, 150, 180, 145, 525, 50]\n",
    "\n",
    "for i in numbers:\n",
    "    if i%5==0:\n",
    "        if i > 150:\n",
    "            continue\n",
    "            if i > 500:\n",
    "                break\n",
    "        print (i)\n",
    "\n"
   ]
  },
  {
   "cell_type": "code",
   "execution_count": 61,
   "id": "ffb30622",
   "metadata": {},
   "outputs": [
    {
     "name": "stdout",
     "output_type": "stream",
     "text": [
      "List after using reverse order: [50, 40, 30, 20, 10]\n"
     ]
    }
   ],
   "source": [
    "#Print the given list in reverse order.\n",
    "\n",
    "list1 = [10, 20, 30, 40, 50]\n",
    "\n",
    "list1.reverse()\n",
    "\n",
    "print(\"List after using reverse order:\", list1)"
   ]
  },
  {
   "cell_type": "code",
   "execution_count": null,
   "id": "b3863dec",
   "metadata": {},
   "outputs": [],
   "source": []
  }
 ],
 "metadata": {
  "kernelspec": {
   "display_name": "Python 3 (ipykernel)",
   "language": "python",
   "name": "python3"
  },
  "language_info": {
   "codemirror_mode": {
    "name": "ipython",
    "version": 3
   },
   "file_extension": ".py",
   "mimetype": "text/x-python",
   "name": "python",
   "nbconvert_exporter": "python",
   "pygments_lexer": "ipython3",
   "version": "3.9.12"
  }
 },
 "nbformat": 4,
 "nbformat_minor": 5
}
